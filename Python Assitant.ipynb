{
 "cells": [
  {
   "cell_type": "code",
   "execution_count": 16,
   "metadata": {},
   "outputs": [],
   "source": [
    "import pyttsx3\n",
    "import datetime\n",
    "import speech_recognition as sr\n",
    "import wikipedia\n",
    "import smtplib\n",
    "import webbrowser as wb\n",
    "import os, subprocess\n",
    "import pyautogui\n",
    "import psutil\n",
    "import pyjokes\n",
    "import wolframalpha\n",
    "import json\n",
    "import requests\n",
    "import cv2 as cv"
   ]
  },
  {
   "cell_type": "code",
   "execution_count": 3,
   "metadata": {},
   "outputs": [],
   "source": [
    "engine = pyttsx3.init()\n",
    "voices = engine.getProperty('voices')\n",
    "rate = engine.getProperty('rate')\n",
    "engine.setProperty('rate',180)\n",
    "engine.setProperty('voice', voices[1].id)"
   ]
  },
  {
   "cell_type": "code",
   "execution_count": 4,
   "metadata": {},
   "outputs": [],
   "source": [
    "def speak(audio):\n",
    "    engine.say(audio)\n",
    "    engine.runAndWait()"
   ]
  },
  {
   "cell_type": "code",
   "execution_count": 5,
   "metadata": {},
   "outputs": [],
   "source": [
    "def time():\n",
    "    Time = datetime.datetime.now().strftime(\"%I:%M\")\n",
    "    speak(\"The current time is\")\n",
    "    speak(Time)"
   ]
  },
  {
   "cell_type": "code",
   "execution_count": 6,
   "metadata": {},
   "outputs": [],
   "source": [
    "def date():\n",
    "    Month_dict = {1: 'January', 2: 'February', 3: 'March', 4: 'April', 5: 'May', 6: 'June', \n",
    "                  7: 'july',8: 'August', 9: 'September', 10: 'October', 11: 'November', 12: 'December'} \n",
    "    year = int(datetime.datetime.now().year)\n",
    "    month = int(datetime.datetime.now().month)\n",
    "    day = int(datetime.datetime.now().day)\n",
    "    speak(\"The current date is\")\n",
    "    speak(str(day) + Month_dict[month] + str(year))"
   ]
  },
  {
   "cell_type": "code",
   "execution_count": 7,
   "metadata": {},
   "outputs": [],
   "source": [
    "def greeting():\n",
    "    hour = datetime.datetime.now().hour\n",
    "    if hour >= 6 and hour < 12:\n",
    "        speak(\"Hello! Good Morning!\")\n",
    "    elif hour >= 12 and hour < 18:\n",
    "        speak(\"Hello! Good Afternoon!\")\n",
    "    elif hour >= 18 and hour < 24:\n",
    "        speak(\"Hello! Good Evening!\")\n",
    "    else:\n",
    "        speak(\"You should get some sleep, sir!\")\n",
    "        return\n",
    "    time()\n",
    "    date()\n",
    "    speak(\"How can i help you?\")\n",
    "    "
   ]
  },
  {
   "cell_type": "code",
   "execution_count": 8,
   "metadata": {},
   "outputs": [],
   "source": [
    "def listen():\n",
    "    r = sr.Recognizer()\n",
    "    with sr.Microphone() as source:\n",
    "        print(\"Listening...\")\n",
    "        r.pause_threshold = 1\n",
    "        audio = r.listen(source)\n",
    "        \n",
    "    try:\n",
    "        print(\"Converting speech to text...\")\n",
    "        speech_to_text = r.recognize_google(audio, language='en-us')\n",
    "        print(speech_to_text)\n",
    "    \n",
    "    except Exception as e:\n",
    "        print(e)\n",
    "        speak(\"Can you repeat that?\") \n",
    "        return \"None\"\n",
    "    \n",
    "    return speech_to_text"
   ]
  },
  {
   "cell_type": "code",
   "execution_count": 9,
   "metadata": {},
   "outputs": [],
   "source": [
    "def email(to,message):\n",
    "    server = smtplib.SMTP('smtp.gmail.com',587)\n",
    "    server.ehlo()\n",
    "    server.starttls()\n",
    "    server.login('email','Password') # Enter the email address and password from which you want to send mail\n",
    "    server.sendmail('email',to,message) # enter the same email as above. \n",
    "    server.close()  "
   ]
  },
  {
   "cell_type": "code",
   "execution_count": 10,
   "metadata": {},
   "outputs": [],
   "source": [
    "def screenshot():\n",
    "    img = pyautogui.screenshot()\n",
    "    # Enter the location where you want to save the screenshot\n",
    "    img.save('Loaction\\\\screenshot.jpg') "
   ]
  },
  {
   "cell_type": "code",
   "execution_count": 11,
   "metadata": {},
   "outputs": [],
   "source": [
    "def cpu():\n",
    "    usage = str(psutil.cpu_percent())\n",
    "    speak('CPU is at' + usage)\n",
    "    battery = psutil.sensors_battery()\n",
    "    speak('Battery is at')\n",
    "    speak(battery.percent)"
   ]
  },
  {
   "cell_type": "code",
   "execution_count": 12,
   "metadata": {},
   "outputs": [],
   "source": [
    "def jokes():\n",
    "    speak(pyjokes.get_joke())"
   ]
  },
  {
   "cell_type": "code",
   "execution_count": 18,
   "metadata": {},
   "outputs": [],
   "source": [
    "def camera():\n",
    "    capture = cv.VideoCapture(0)\n",
    "\n",
    "    while True:\n",
    "        isTrue,frame = capture.read()\n",
    "        cv.imshow('Video',frame)\n",
    "        if cv.waitKey(20) & 0xFF == ord('d'):\n",
    "            break\n",
    "\n",
    "    capture.release()\n",
    "    cv.destroyAllWindows()"
   ]
  },
  {
   "cell_type": "code",
   "execution_count": 22,
   "metadata": {
    "collapsed": true
   },
   "outputs": [
    {
     "name": "stdout",
     "output_type": "stream",
     "text": [
      "Listening...\n",
      "Converting speech to text...\n",
      "\n",
      "Listening...\n",
      "Converting speech to text...\n",
      "hello\n",
      "Listening...\n",
      "Converting speech to text...\n",
      "open camera\n",
      "Listening...\n",
      "Converting speech to text...\n",
      "calculate 3 + 2 + 9\n",
      "The answer is 14\n",
      "Listening...\n",
      "Converting speech to text...\n",
      "take a screenshot\n",
      "Listening...\n",
      "Converting speech to text...\n",
      "\n",
      "Listening...\n",
      "Converting speech to text...\n",
      "okay bye\n"
     ]
    }
   ],
   "source": [
    "if __name__ == \"__main__\":\n",
    "    greeting()\n",
    "    while True:\n",
    "        speech_to_text = listen().lower()\n",
    "        \n",
    "        if 'time' in speech_to_text:\n",
    "            time()\n",
    "        elif 'date' in speech_to_text:\n",
    "            date()\n",
    "        \n",
    "        elif 'wikipedia' in speech_to_text:\n",
    "            speak(\"let me pull that up for you!!\")\n",
    "            speech_to_text = speech_to_text.replace(\"wikipedia\",\"\")\n",
    "            result = wikipedia.summary(speech_to_text,sentences=2)\n",
    "            speak('According to wikipedia')\n",
    "            print(result)\n",
    "            speak(result)\n",
    "                     \n",
    "        elif 'send email' in speech_to_text:\n",
    "            try:\n",
    "                speak(\"What would you like to email?\")\n",
    "                content = listen()\n",
    "                speak(\"Type in the email address\")\n",
    "                to = input()\n",
    "                email(to,content)\n",
    "                speak('Your email has been sent')\n",
    "            except Exception as e:\n",
    "                print(e)\n",
    "                speak('Couldn''t send email')\n",
    "                \n",
    "        elif 'open chrome' in speech_to_text:\n",
    "            speak(\"which website should i open?\")\n",
    "            chrome_path = 'C:/Program Files/Google/Chrome/Application/chrome.exe %s'\n",
    "            weburl = listen().lower()\n",
    "            wb.get(chrome_path).open_new_tab(weburl+'.com')\n",
    "            \n",
    "        elif 'logout' in speech_to_text or 'log out' in speech_to_text:\n",
    "            speak('Do you wish to logout your computer? No files will be saved!')\n",
    "            if 'yes' in listen().lower():\n",
    "                speak('Bye Bye')\n",
    "                os.system(\"shutdown -l\")\n",
    "            elif 'no' in listen().lower():\n",
    "                speak('okay!')\n",
    "            \n",
    "        elif 'shutdown' in speech_to_text:\n",
    "            speak('Do you wish to shutdown your computer? No files will be saved!')\n",
    "            if 'yes' in listen().lower():\n",
    "                speak('Bye Bye')\n",
    "                os.system(\"shutdown /s /t 1\")\n",
    "            elif 'no' in listen().lower():\n",
    "                speak('okay!')            \n",
    "                 \n",
    "        elif 'restart' in speech_to_text:\n",
    "            speak('Do you wish to restart your computer? No files will be saved!')\n",
    "            if 'yes' in listen().lower():\n",
    "                speak('Bye Bye')\n",
    "                os.system(\"shutdown /r /t 1\")\n",
    "            elif 'no' in listen().lower():\n",
    "                speak('okay!')\n",
    "             \n",
    "        elif 'make a note' in speech_to_text:\n",
    "            speak('What should i remember?')\n",
    "            data = input()\n",
    "            note = open('data.txt','w')\n",
    "            note.write(data)\n",
    "            note.close()\n",
    "        \n",
    "        elif 'reminder' in speech_to_text:\n",
    "            reminder = open('data.txt','r')\n",
    "            speak(reminder.read())\n",
    "        \n",
    "        elif 'screenshot' in speech_to_text:\n",
    "            screenshot()\n",
    "            speak(' Done!')\n",
    "        \n",
    "        elif 'cpu' in speech_to_text:\n",
    "            cpu()\n",
    "        \n",
    "        elif 'joke' in speech_to_text:\n",
    "            jokes()\n",
    "            \n",
    "        elif \"calculate\" in speech_to_text or \"what is\" in speech_to_text:\n",
    "            question = speech_to_text.replace(\"calculate \",\"\")\n",
    "            app_id=\"6989LG-EYKJ3GRRXK\" # add api key from wolframalpha\n",
    "            client = wolframalpha.Client(app_id)\n",
    "            res = client.query(question)\n",
    "            answer = next(res.results).text\n",
    "            print(\"The answer is \" + answer)\n",
    "            speak(\"The answer is \" + answer)\n",
    "        \n",
    "        elif \"camera\" in speech_to_text:\n",
    "            speak('Opening Camera. Press d on your keyboard to exit!')\n",
    "            camera()\n",
    "            \n",
    "        elif 'offline' in speech_to_text or 'bye' in speech_to_text or 'stop' in speech_to_text:\n",
    "            speak(\"Okay then!! goodbye\")\n",
    "            break\n",
    "        "
   ]
  },
  {
   "cell_type": "code",
   "execution_count": null,
   "metadata": {},
   "outputs": [],
   "source": []
  }
 ],
 "metadata": {
  "kernelspec": {
   "display_name": "Python 3",
   "language": "python",
   "name": "python3"
  },
  "language_info": {
   "codemirror_mode": {
    "name": "ipython",
    "version": 3
   },
   "file_extension": ".py",
   "mimetype": "text/x-python",
   "name": "python",
   "nbconvert_exporter": "python",
   "pygments_lexer": "ipython3",
   "version": "3.8.5"
  }
 },
 "nbformat": 4,
 "nbformat_minor": 4
}
